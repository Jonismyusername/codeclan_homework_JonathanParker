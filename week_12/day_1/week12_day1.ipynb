{
 "cells": [
  {
   "cell_type": "markdown",
   "id": "b8df7127",
   "metadata": {},
   "source": [
    "\n",
    "\n",
    "\n",
    "Question 1\n",
    "\n",
    "Create a list with the following data, and assign it to a variable named shopping: 'spam' 'ham' 'eggs' 'ham'\n",
    "\n",
    "Then do the following:\n",
    "\n",
    "    Extract the second element of the list.\n",
    "\n",
    "    Extract the first to third (inclusive) element of the list.\n",
    "\n",
    "    Extract only the last element of the list.\n",
    "\n"
   ]
  },
  {
   "cell_type": "code",
   "execution_count": 1,
   "id": "458f623d",
   "metadata": {},
   "outputs": [],
   "source": [
    "shopping = [\"spam\", \"ham\", \"eggs\", \"ham\"]"
   ]
  },
  {
   "cell_type": "code",
   "execution_count": 2,
   "id": "e31253e3",
   "metadata": {},
   "outputs": [
    {
     "data": {
      "text/plain": [
       "'ham'"
      ]
     },
     "execution_count": 2,
     "metadata": {},
     "output_type": "execute_result"
    }
   ],
   "source": [
    "shopping[1]"
   ]
  },
  {
   "cell_type": "code",
   "execution_count": 4,
   "id": "cfa2cbe4",
   "metadata": {},
   "outputs": [
    {
     "data": {
      "text/plain": [
       "['spam', 'ham', 'eggs']"
      ]
     },
     "execution_count": 4,
     "metadata": {},
     "output_type": "execute_result"
    }
   ],
   "source": [
    "shopping[:3]"
   ]
  },
  {
   "cell_type": "code",
   "execution_count": 5,
   "id": "1ee6d546",
   "metadata": {},
   "outputs": [
    {
     "data": {
      "text/plain": [
       "'ham'"
      ]
     },
     "execution_count": 5,
     "metadata": {},
     "output_type": "execute_result"
    }
   ],
   "source": [
    "shopping[-1]"
   ]
  },
  {
   "cell_type": "markdown",
   "id": "d1be4a10",
   "metadata": {},
   "source": [
    "Question 2\n",
    "\n",
    "Set up a list with the following elements:\n",
    "\n",
    "stops = [\"Croy\", \"Cumbernauld\", \"Falkirk High\", \"Linlithgow\", \"Livingston\", \"Haymarket\"]\n",
    "\n",
    "Perform the following:\n",
    "\n",
    "    Append Edinburgh Waverley to the end of the list\n",
    "    Add \"Queen Street\" to the start of the list\n",
    "    Find out what index \"Croy\" is at in the list\n",
    "    Add \"Polmont\" at the appropriate point (between \"Falkirk High\" and \"Linlithgow\")\n",
    "    Remove \"Haymarket\" from the list of stops\n",
    "    Remove all items from stops\n",
    "\n",
    "Hint: Some of these methods will change the original object stops. If you make any unwanted changes and want to go back to the original object you can re-run the code chunks where we created the object stops and then appended \"Edinburgh Waverley\"."
   ]
  },
  {
   "cell_type": "code",
   "execution_count": 6,
   "id": "974df071",
   "metadata": {},
   "outputs": [],
   "source": [
    "stops = [\"Croy\", \"Cumbernauld\", \"Falkirk High\", \"Linlithgow\", \"Livingston\", \"Haymarket\"]"
   ]
  },
  {
   "cell_type": "code",
   "execution_count": 7,
   "id": "72e3ea03",
   "metadata": {},
   "outputs": [
    {
     "data": {
      "text/plain": [
       "['Croy',\n",
       " 'Cumbernauld',\n",
       " 'Falkirk High',\n",
       " 'Linlithgow',\n",
       " 'Livingston',\n",
       " 'Haymarket',\n",
       " 'Edinburgh Waverley']"
      ]
     },
     "execution_count": 7,
     "metadata": {},
     "output_type": "execute_result"
    }
   ],
   "source": [
    "# Append Edinburgh Waverley to the end of the list\n",
    "\n",
    "stops.append(\"Edinburgh Waverley\")\n",
    "stops"
   ]
  },
  {
   "cell_type": "code",
   "execution_count": 8,
   "id": "ca5cea85",
   "metadata": {},
   "outputs": [
    {
     "data": {
      "text/plain": [
       "['Queen Street',\n",
       " 'Croy',\n",
       " 'Cumbernauld',\n",
       " 'Falkirk High',\n",
       " 'Linlithgow',\n",
       " 'Livingston',\n",
       " 'Haymarket',\n",
       " 'Edinburgh Waverley']"
      ]
     },
     "execution_count": 8,
     "metadata": {},
     "output_type": "execute_result"
    }
   ],
   "source": [
    "# Add \"Queen Street\" to the start of the list\n",
    "\n",
    "stops.reverse()\n",
    "stops.append(\"Queen Street\")\n",
    "stops.reverse()\n",
    "stops"
   ]
  },
  {
   "cell_type": "code",
   "execution_count": 11,
   "id": "95cc7b40",
   "metadata": {},
   "outputs": [
    {
     "data": {
      "text/plain": [
       "1"
      ]
     },
     "execution_count": 11,
     "metadata": {},
     "output_type": "execute_result"
    }
   ],
   "source": [
    "# Find out what index \"Croy\" is at in the list\n",
    "\n",
    "stops.index(\"Croy\")"
   ]
  },
  {
   "cell_type": "code",
   "execution_count": 21,
   "id": "384dae07",
   "metadata": {},
   "outputs": [],
   "source": [
    "# Add \"Polmont\" at the appropriate point (between \"Falkirk High\" and \"Linlithgow\")\n",
    "stops.insert(4, \"Polmont\")"
   ]
  },
  {
   "cell_type": "code",
   "execution_count": 22,
   "id": "b8e2e471",
   "metadata": {},
   "outputs": [
    {
     "data": {
      "text/plain": [
       "['Queen Street',\n",
       " 'Croy',\n",
       " 'Cumbernauld',\n",
       " 'Falkirk High',\n",
       " 'Polmont',\n",
       " 'Linlithgow',\n",
       " 'Livingston',\n",
       " 'Haymarket',\n",
       " 'Edinburgh Waverley']"
      ]
     },
     "execution_count": 22,
     "metadata": {},
     "output_type": "execute_result"
    }
   ],
   "source": [
    "stops"
   ]
  },
  {
   "cell_type": "code",
   "execution_count": 23,
   "id": "42fea748",
   "metadata": {},
   "outputs": [
    {
     "data": {
      "text/plain": [
       "['Queen Street',\n",
       " 'Croy',\n",
       " 'Cumbernauld',\n",
       " 'Falkirk High',\n",
       " 'Polmont',\n",
       " 'Linlithgow',\n",
       " 'Livingston',\n",
       " 'Edinburgh Waverley']"
      ]
     },
     "execution_count": 23,
     "metadata": {},
     "output_type": "execute_result"
    }
   ],
   "source": [
    "# Remove \"Haymarket\" from the list of stops\n",
    "\n",
    "stops.remove(\"Haymarket\")\n",
    "stops"
   ]
  },
  {
   "cell_type": "code",
   "execution_count": 25,
   "id": "4fd32650",
   "metadata": {},
   "outputs": [
    {
     "data": {
      "text/plain": [
       "[]"
      ]
     },
     "execution_count": 25,
     "metadata": {},
     "output_type": "execute_result"
    }
   ],
   "source": [
    "# Remove all items from stops\n",
    "\n",
    "stops.clear()\n",
    "stops"
   ]
  },
  {
   "cell_type": "markdown",
   "id": "91930f66",
   "metadata": {},
   "source": [
    "\n",
    "\n",
    "\n",
    "Question 3\n",
    "\n",
    "Set up the following dictionary:\n",
    "\n",
    "person = {\"name\": \"Steph\", \"age\": 31, \"Instructor\" : True}\n",
    "\n",
    "Do the following:\n",
    "\n",
    "    Return the keys, values and items from this dictionary\n",
    "\n",
    "    Take out only the name from it\n",
    "\n",
    "    Add a new key:value pair, which adds the email \"steph@codeclan.com\" to the dictionary\n",
    "\n",
    "    Delete the job description from the dictionary (Hint: look up the del function)\n",
    "\n"
   ]
  },
  {
   "cell_type": "code",
   "execution_count": 26,
   "id": "9884b16c",
   "metadata": {},
   "outputs": [],
   "source": [
    "person = {\"name\": \"Steph\", \"age\": 31, \"Instructor\" : True}\n"
   ]
  },
  {
   "cell_type": "code",
   "execution_count": 28,
   "id": "2de632f4",
   "metadata": {},
   "outputs": [
    {
     "data": {
      "text/plain": [
       "dict_keys(['name', 'age', 'Instructor'])"
      ]
     },
     "execution_count": 28,
     "metadata": {},
     "output_type": "execute_result"
    }
   ],
   "source": [
    "#    Return the keys, values and items from this dictionary\n",
    "\n",
    "person.keys()"
   ]
  },
  {
   "cell_type": "code",
   "execution_count": 29,
   "id": "70438063",
   "metadata": {},
   "outputs": [
    {
     "data": {
      "text/plain": [
       "dict_values(['Steph', 31, True])"
      ]
     },
     "execution_count": 29,
     "metadata": {},
     "output_type": "execute_result"
    }
   ],
   "source": [
    "person.values()"
   ]
  },
  {
   "cell_type": "code",
   "execution_count": 30,
   "id": "f899a1f5",
   "metadata": {},
   "outputs": [
    {
     "data": {
      "text/plain": [
       "dict_items([('name', 'Steph'), ('age', 31), ('Instructor', True)])"
      ]
     },
     "execution_count": 30,
     "metadata": {},
     "output_type": "execute_result"
    }
   ],
   "source": [
    "person.items()"
   ]
  },
  {
   "cell_type": "code",
   "execution_count": 31,
   "id": "5d54b7aa",
   "metadata": {},
   "outputs": [
    {
     "data": {
      "text/plain": [
       "'Steph'"
      ]
     },
     "execution_count": 31,
     "metadata": {},
     "output_type": "execute_result"
    }
   ],
   "source": [
    "#    Take out only the name from it\n",
    "\n",
    "person[\"name\"]"
   ]
  },
  {
   "cell_type": "code",
   "execution_count": 32,
   "id": "ac3fc1b0",
   "metadata": {},
   "outputs": [
    {
     "data": {
      "text/plain": [
       "{'name': 'Steph', 'age': 31, 'Instructor': True, 'pair': 'steph@codeclan.com'}"
      ]
     },
     "execution_count": 32,
     "metadata": {},
     "output_type": "execute_result"
    }
   ],
   "source": [
    "#     Add a new key:value pair, which adds the email \"steph@codeclan.com\" to the dictionary\n",
    "\n",
    "person.update({\n",
    "    \"pair\" : \"steph@codeclan.com\"\n",
    "})\n",
    "person"
   ]
  },
  {
   "cell_type": "code",
   "execution_count": 35,
   "id": "55bc99ce",
   "metadata": {},
   "outputs": [
    {
     "data": {
      "text/plain": [
       "True"
      ]
     },
     "execution_count": 35,
     "metadata": {},
     "output_type": "execute_result"
    }
   ],
   "source": [
    "#     Delete the job description from the dictionary (Hint: look up the del function)\n",
    "\n",
    "person.pop(\"Instructor\")"
   ]
  },
  {
   "cell_type": "code",
   "execution_count": 36,
   "id": "794763cc",
   "metadata": {},
   "outputs": [
    {
     "data": {
      "text/plain": [
       "{'name': 'Steph', 'age': 31, 'pair': 'steph@codeclan.com'}"
      ]
     },
     "execution_count": 36,
     "metadata": {},
     "output_type": "execute_result"
    }
   ],
   "source": [
    "person"
   ]
  },
  {
   "cell_type": "markdown",
   "id": "284d0101",
   "metadata": {},
   "source": [
    "\n",
    "\n",
    "\n",
    "Question 4\n",
    "\n",
    "For the following list of numbers:\n",
    "\n",
    "numbers = [1, 6, 2, 2, 7, 1, 6, 13, 99, 7]\n",
    "\n",
    "    Print out a list of the even integers:\n",
    "\n",
    "    Print the difference between the largest and smallest value:\n",
    "\n",
    "    Print True if the list contains a 2 next to a 2 somewhere.\n",
    "\n",
    "    Print the sum of the numbers, BUT ignore any section of numbers starting with a 6 and extending to the next 7. So [11, 6, 4, 99, 7, 11] would have sum of 22\n",
    "\n"
   ]
  },
  {
   "cell_type": "code",
   "execution_count": 37,
   "id": "45e7fce3",
   "metadata": {},
   "outputs": [],
   "source": [
    "numbers = [1, 6, 2, 2, 7, 1, 6, 13, 99, 7]\n"
   ]
  },
  {
   "cell_type": "code",
   "execution_count": 44,
   "id": "2cff123e",
   "metadata": {},
   "outputs": [
    {
     "name": "stdout",
     "output_type": "stream",
     "text": [
      "6\n",
      "2\n",
      "2\n",
      "6\n"
     ]
    }
   ],
   "source": [
    "#     Print out a list of the even integers:\n",
    "\n",
    "for number in numbers:\n",
    "    if number % 2 == 0:\n",
    "        print(number)\n"
   ]
  },
  {
   "cell_type": "code",
   "execution_count": 43,
   "id": "e3097c74",
   "metadata": {},
   "outputs": [
    {
     "data": {
      "text/plain": [
       "98"
      ]
     },
     "execution_count": 43,
     "metadata": {},
     "output_type": "execute_result"
    }
   ],
   "source": [
    "#     Print the difference between the largest and smallest value:\n",
    "\n",
    "max(numbers) - min(numbers)"
   ]
  },
  {
   "cell_type": "code",
   "execution_count": 51,
   "id": "a00d316f",
   "metadata": {},
   "outputs": [
    {
     "name": "stdout",
     "output_type": "stream",
     "text": [
      "False\n"
     ]
    }
   ],
   "source": [
    "#    Print True if the list contains a 2 next to a 2 somewhere.\n",
    "\n",
    "string = [2, 2]\n",
    "if string in numbers:\n",
    "    print(True)\n",
    "else:\n",
    "    print(False)"
   ]
  },
  {
   "cell_type": "code",
   "execution_count": null,
   "id": "362e7ebf",
   "metadata": {},
   "outputs": [],
   "source": [
    "#    Print the sum of the numbers, BUT ignore any section of numbers starting with a 6 and extending to the next 7. So [11, 6, 4, 99, 7, 11] would have sum of 22\n"
   ]
  }
 ],
 "metadata": {
  "kernelspec": {
   "display_name": "Python 3",
   "language": "python",
   "name": "python3"
  },
  "language_info": {
   "codemirror_mode": {
    "name": "ipython",
    "version": 3
   },
   "file_extension": ".py",
   "mimetype": "text/x-python",
   "name": "python",
   "nbconvert_exporter": "python",
   "pygments_lexer": "ipython3",
   "version": "3.8.8"
  },
  "varInspector": {
   "cols": {
    "lenName": 16,
    "lenType": 16,
    "lenVar": 40
   },
   "kernels_config": {
    "python": {
     "delete_cmd_postfix": "",
     "delete_cmd_prefix": "del ",
     "library": "var_list.py",
     "varRefreshCmd": "print(var_dic_list())"
    },
    "r": {
     "delete_cmd_postfix": ") ",
     "delete_cmd_prefix": "rm(",
     "library": "var_list.r",
     "varRefreshCmd": "cat(var_dic_list()) "
    }
   },
   "position": {
    "height": "289.85px",
    "left": "1430px",
    "right": "20px",
    "top": "120px",
    "width": "340px"
   },
   "types_to_exclude": [
    "module",
    "function",
    "builtin_function_or_method",
    "instance",
    "_Feature"
   ],
   "window_display": false
  }
 },
 "nbformat": 4,
 "nbformat_minor": 5
}
